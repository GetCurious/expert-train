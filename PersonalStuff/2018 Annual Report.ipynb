{
 "cells": [
  {
   "cell_type": "markdown",
   "metadata": {},
   "source": [
    "<img height=\"60px\" src=\"logo.png\" align=\"right\" hspace=\"20px\" vspace=\"5px\">\n",
    "<h1>ECPaint</h1>\n",
    "==============\n",
    "<h3>Revenue & Traffic Report (2018)</h3>\n",
    "What started out as an Ecommerce side hustle, turned out to be a perfect source of data for my First Data Science project. The platform I worked with provides the data separately and I've managed to parse them into 3 separate category (Monthly, Weekly, Daily) Analysing the flow of traffic may help me make better business decisions.\n",
    "<h3>Objective</h3>\n",
    "Finding ideas to generate more Revenue $$$"
   ]
  },
  {
   "cell_type": "markdown",
   "metadata": {},
   "source": [
    "#### Modules"
   ]
  },
  {
   "cell_type": "code",
   "execution_count": 12,
   "metadata": {},
   "outputs": [],
   "source": [
    "%matplotlib inline\n",
    "import matplotlib\n",
    "import matplotlib.pyplot as plt\n",
    "import numpy as np\n",
    "import pandas as pd\n",
    "\n",
    "matplotlib.style.use('ggplot')"
   ]
  },
  {
   "cell_type": "markdown",
   "metadata": {},
   "source": [
    "#### Loading Files"
   ]
  },
  {
   "cell_type": "code",
   "execution_count": 13,
   "metadata": {},
   "outputs": [
    {
     "data": {
      "text/html": [
       "<div>\n",
       "<style scoped>\n",
       "    .dataframe tbody tr th:only-of-type {\n",
       "        vertical-align: middle;\n",
       "    }\n",
       "\n",
       "    .dataframe tbody tr th {\n",
       "        vertical-align: top;\n",
       "    }\n",
       "\n",
       "    .dataframe thead th {\n",
       "        text-align: right;\n",
       "    }\n",
       "</style>\n",
       "<table border=\"1\" class=\"dataframe\">\n",
       "  <thead>\n",
       "    <tr style=\"text-align: right;\">\n",
       "      <th></th>\n",
       "      <th>Month</th>\n",
       "      <th>Revenue</th>\n",
       "      <th>Visitors</th>\n",
       "      <th>Buyers</th>\n",
       "      <th>Orders</th>\n",
       "      <th>Pageviews</th>\n",
       "      <th>Units Sold</th>\n",
       "      <th>Conversion Rate</th>\n",
       "      <th>Revenue per Buyer</th>\n",
       "      <th>Visitor Value</th>\n",
       "      <th>Add to Cart Visitors</th>\n",
       "      <th>Add to Cart Units</th>\n",
       "      <th>Wishlists</th>\n",
       "      <th>Wishlist Visitor</th>\n",
       "    </tr>\n",
       "  </thead>\n",
       "  <tbody>\n",
       "    <tr>\n",
       "      <th>0</th>\n",
       "      <td>12-2017</td>\n",
       "      <td>299.98</td>\n",
       "      <td>193</td>\n",
       "      <td>2</td>\n",
       "      <td>2</td>\n",
       "      <td>900</td>\n",
       "      <td>2</td>\n",
       "      <td>1.04%</td>\n",
       "      <td>149.99</td>\n",
       "      <td>1.55</td>\n",
       "      <td>2</td>\n",
       "      <td>2</td>\n",
       "      <td>13</td>\n",
       "      <td>6</td>\n",
       "    </tr>\n",
       "    <tr>\n",
       "      <th>1</th>\n",
       "      <td>1-2018</td>\n",
       "      <td>899.95</td>\n",
       "      <td>455</td>\n",
       "      <td>5</td>\n",
       "      <td>5</td>\n",
       "      <td>1894</td>\n",
       "      <td>5</td>\n",
       "      <td>1.10%</td>\n",
       "      <td>179.99</td>\n",
       "      <td>1.98</td>\n",
       "      <td>5</td>\n",
       "      <td>5</td>\n",
       "      <td>11</td>\n",
       "      <td>8</td>\n",
       "    </tr>\n",
       "    <tr>\n",
       "      <th>2</th>\n",
       "      <td>2-2018</td>\n",
       "      <td>717.96</td>\n",
       "      <td>674</td>\n",
       "      <td>5</td>\n",
       "      <td>5</td>\n",
       "      <td>3065</td>\n",
       "      <td>5</td>\n",
       "      <td>0.74%</td>\n",
       "      <td>143.59</td>\n",
       "      <td>1.07</td>\n",
       "      <td>22</td>\n",
       "      <td>28</td>\n",
       "      <td>32</td>\n",
       "      <td>22</td>\n",
       "    </tr>\n",
       "    <tr>\n",
       "      <th>3</th>\n",
       "      <td>3-2018</td>\n",
       "      <td>797.48</td>\n",
       "      <td>958</td>\n",
       "      <td>7</td>\n",
       "      <td>8</td>\n",
       "      <td>3252</td>\n",
       "      <td>8</td>\n",
       "      <td>0.73%</td>\n",
       "      <td>113.93</td>\n",
       "      <td>0.83</td>\n",
       "      <td>38</td>\n",
       "      <td>57</td>\n",
       "      <td>52</td>\n",
       "      <td>22</td>\n",
       "    </tr>\n",
       "    <tr>\n",
       "      <th>4</th>\n",
       "      <td>4-2018</td>\n",
       "      <td>553.47</td>\n",
       "      <td>777</td>\n",
       "      <td>2</td>\n",
       "      <td>2</td>\n",
       "      <td>2419</td>\n",
       "      <td>3</td>\n",
       "      <td>0.26%</td>\n",
       "      <td>276.74</td>\n",
       "      <td>0.71</td>\n",
       "      <td>47</td>\n",
       "      <td>76</td>\n",
       "      <td>63</td>\n",
       "      <td>27</td>\n",
       "    </tr>\n",
       "  </tbody>\n",
       "</table>\n",
       "</div>"
      ],
      "text/plain": [
       "     Month  Revenue  Visitors  Buyers  Orders  Pageviews  Units Sold  \\\n",
       "0  12-2017   299.98       193       2       2        900           2   \n",
       "1   1-2018   899.95       455       5       5       1894           5   \n",
       "2   2-2018   717.96       674       5       5       3065           5   \n",
       "3   3-2018   797.48       958       7       8       3252           8   \n",
       "4   4-2018   553.47       777       2       2       2419           3   \n",
       "\n",
       "  Conversion Rate  Revenue per Buyer  Visitor Value  Add to Cart Visitors  \\\n",
       "0           1.04%             149.99           1.55                     2   \n",
       "1           1.10%             179.99           1.98                     5   \n",
       "2           0.74%             143.59           1.07                    22   \n",
       "3           0.73%             113.93           0.83                    38   \n",
       "4           0.26%             276.74           0.71                    47   \n",
       "\n",
       "   Add to Cart Units  Wishlists  Wishlist Visitor  \n",
       "0                  2         13                 6  \n",
       "1                  5         11                 8  \n",
       "2                 28         32                22  \n",
       "3                 57         52                22  \n",
       "4                 76         63                27  "
      ]
     },
     "execution_count": 13,
     "metadata": {},
     "output_type": "execute_result"
    }
   ],
   "source": [
    "# Monthly data since (Dec 2017)\n",
    "# Weekly data since (September 2018)\n",
    "# Daily data since (30th September 2018)\n",
    "monthly = pd.read_csv('Monthly_Traffic.csv')\n",
    "weekly  = pd.read_csv('Weekly_Traffic.csv')\n",
    "daily   = pd.read_csv('Daily_Traffic.csv')\n",
    "\n",
    "# Choose period (monthly,weekly,daily)\n",
    "period = monthly\n",
    "\n",
    "# data sample\n",
    "period.head()"
   ]
  },
  {
   "cell_type": "markdown",
   "metadata": {},
   "source": [
    "#### Basic Overview "
   ]
  },
  {
   "cell_type": "code",
   "execution_count": 14,
   "metadata": {},
   "outputs": [],
   "source": [
    "Revenue          = period['Revenue']\n",
    "Total_Views      = period['Pageviews'].sum()\n",
    "Number_of_Visits = period['Visitors'].sum()\n",
    "Buyers           = period['Buyers']\n",
    "Time             = period.columns[0]\n",
    "Conversion_Rate  = round((Buyers.sum() / Number_of_Visits) * 100, 2)\n",
    "Views_to_dollar  = round(Total_Views   / Revenue.sum(), 2)\n",
    "RM_per_view      = round(Revenue.sum() / Total_Views, 2)"
   ]
  },
  {
   "cell_type": "markdown",
   "metadata": {},
   "source": [
    "## Highlights"
   ]
  },
  {
   "cell_type": "code",
   "execution_count": 15,
   "metadata": {
    "scrolled": true
   },
   "outputs": [
    {
     "name": "stdout",
     "output_type": "stream",
     "text": [
      "In 2018 the store generated (RM 9840.51) in Revenue, a Monthly Average of (RM 820.04).\n",
      "\n",
      " In a period of (12 Months), the store generated (38327) impressions, (9338) clicks and (59) Buyers.\n",
      "\n",
      " Thus the Conversion Rate is (0.63%),\n",
      "\n",
      " Generating (RM 0.26) per view.\n"
     ]
    }
   ],
   "source": [
    "print(f'In 2018 the store generated (RM {monthly[\"Revenue\"].sum()}) in Revenue,',\n",
    "      f'a Monthly Average of (RM {round(monthly[\"Revenue\"].mean(), 2)}).\\n\\n',\n",
    "      f'In a period of ({period[Time].count()} {Time}s), the store generated ({Total_Views}) impressions,',\n",
    "      f'({Number_of_Visits}) clicks',\n",
    "      f'and ({Buyers.sum()}) Buyers.\\n\\n', \n",
    "      f'Thus the Conversion Rate is ({Conversion_Rate}%),\\n\\n',\n",
    "      f'Generating (RM {RM_per_view}) per view.')"
   ]
  },
  {
   "cell_type": "markdown",
   "metadata": {},
   "source": [
    "## Hypothesis\n",
    "\n",
    "May need to work on:\n",
    "    \n",
    "    a) Generating more Views (Impressions)\n",
    "\n",
    "    b) Improving Visits (Clicks) \n",
    "\n",
    "    c) Improving Conversion Rate (Buyers)"
   ]
  },
  {
   "cell_type": "code",
   "execution_count": 16,
   "metadata": {},
   "outputs": [
    {
     "name": "stdout",
     "output_type": "stream",
     "text": [
      "Page Views & Revenue\n",
      " [[1.         0.19908499]\n",
      " [0.19908499 1.        ]]\n"
     ]
    },
    {
     "data": {
      "image/png": "[encoded data removed]",
      "text/plain": [
       "<Figure size 432x288 with 2 Axes>"
      ]
     },
     "metadata": {},
     "output_type": "display_data"
    }
   ],
   "source": [
    "X = 'Pageviews'\n",
    "print('Page Views & Revenue\\n', np.corrcoef(period[X], Revenue))\n",
    "\n",
    "fig, ax = plt.subplots()\n",
    "plt.xlabel('Period')\n",
    "plt.ylabel('Revenue')\n",
    "\n",
    "ax1 = ax.twinx()\n",
    "\n",
    "ax.plot(Revenue   , 'green', label = 'Revenue')\n",
    "ax1.plot(period[X],'orange', label = X)\n",
    "\n",
    "fig.legend()\n",
    "plt.title('Revenue and Pageviews')\n",
    "plt.show()"
   ]
  },
  {
   "cell_type": "markdown",
   "metadata": {},
   "source": [
    "# Construct Machine Learning Model\n",
    "Let's make a Model to predict our Average Monthly Revenue.\n",
    "\n",
    "Input Features are Visitors, Pageviews, Add to Cart Visitors, Add to Cart Units, Wishlists, Wishlist Visitor.\n",
    "##  Decision Tree Model"
   ]
  },
  {
   "cell_type": "code",
   "execution_count": 17,
   "metadata": {},
   "outputs": [],
   "source": [
    "# Defining our features/variables\n",
    "Features = period[['Visitors', 'Pageviews', 'Add to Cart Visitors', 'Add to Cart Units', 'Wishlists', 'Wishlist Visitor']]\n",
    "Features = Features.replace('-',0)"
   ]
  },
  {
   "cell_type": "markdown",
   "metadata": {},
   "source": [
    "### Split,  Train, Test\n",
    "Let's split the data and use some for training and some for evaluating the model. We'll test the model using MAE"
   ]
  },
  {
   "cell_type": "code",
   "execution_count": 18,
   "metadata": {},
   "outputs": [
    {
     "name": "stdout",
     "output_type": "stream",
     "text": [
      "Error Range: 543.2866666666666\n"
     ]
    }
   ],
   "source": [
    "# Import train_test_split & DecisionTreeRegressor\n",
    "from sklearn.model_selection import train_test_split\n",
    "from sklearn.tree import DecisionTreeRegressor\n",
    "from sklearn.metrics import mean_absolute_error\n",
    "\n",
    "# split data\n",
    "train_x, test_x, train_y, test_y = train_test_split(Features, Revenue, random_state = 0)\n",
    "\n",
    "# initialize & train \n",
    "Tree_Model = DecisionTreeRegressor(random_state = 0)\n",
    "\n",
    "Tree_Model.fit(train_x, train_y)\n",
    "\n",
    "# checking error range\n",
    "predicted = Tree_Model.predict(test_x)\n",
    "\n",
    "print('Error Range:', mean_absolute_error(predicted, test_y))"
   ]
  },
  {
   "cell_type": "markdown",
   "metadata": {},
   "source": [
    "Seems alright, considering the Model doesn't know the value of the Products sold."
   ]
  },
  {
   "cell_type": "markdown",
   "metadata": {},
   "source": [
    "### Limit leaf nodes\n",
    "Let's limit the decision (nodes) made within the model"
   ]
  },
  {
   "cell_type": "code",
   "execution_count": 19,
   "metadata": {},
   "outputs": [],
   "source": [
    "def TreeError(nodes, train_x, train_y, test_y):\n",
    "    \"\"\"for looping range of nodes, returns MAE\"\"\"\n",
    "    model = DecisionTreeRegressor(max_leaf_nodes=nodes, random_state=0)\n",
    "    model.fit(train_x, train_y)\n",
    "    predicted_vals = model.predict(test_x)\n",
    "    return mean_absolute_error(test_y, predicted_vals)"
   ]
  },
  {
   "cell_type": "code",
   "execution_count": 20,
   "metadata": {},
   "outputs": [
    {
     "name": "stdout",
     "output_type": "stream",
     "text": [
      "Max nodes: 2 \t\t Mean Absolute Error: 451.0733333333333\n",
      "Max nodes: 3 \t\t Mean Absolute Error: 597.6358333333334\n",
      "Max nodes: 4 \t\t Mean Absolute Error: 640.6625\n",
      "Max nodes: 5 \t\t Mean Absolute Error: 575.77\n",
      "Max nodes: 6 \t\t Mean Absolute Error: 530.0333333333333\n",
      "Max nodes: 7 \t\t Mean Absolute Error: 530.0333333333333\n",
      "Max nodes: 10 \t\t Mean Absolute Error: 543.2866666666666\n",
      "Max nodes: 15 \t\t Mean Absolute Error: 543.2866666666666\n",
      "Max nodes: 25 \t\t Mean Absolute Error: 543.2866666666666\n",
      "Max nodes: 50 \t\t Mean Absolute Error: 543.2866666666666\n"
     ]
    }
   ],
   "source": [
    "for nodes in [2, 3, 4, 5, 6, 7, 10, 15, 25, 50]:\n",
    "    model_error = TreeError(nodes, train_x, train_y, test_y)\n",
    "    print(f'Max nodes: {nodes} \\t\\t Mean Absolute Error: {model_error}')"
   ]
  },
  {
   "cell_type": "markdown",
   "metadata": {},
   "source": [
    "Limiting leaf nodes seems to drop errors. Let's use this new information to train our model. "
   ]
  },
  {
   "cell_type": "code",
   "execution_count": 51,
   "metadata": {},
   "outputs": [
    {
     "data": {
      "text/plain": [
       "array([867.32090909])"
      ]
     },
     "execution_count": 51,
     "metadata": {},
     "output_type": "execute_result"
    }
   ],
   "source": [
    "Tree_Model = DecisionTreeRegressor(max_leaf_nodes=2, random_state=0)\n",
    "Tree_Model.fit(Features, Revenue)\n",
    "\n",
    "# Features = [Visitors, Pageviews, Add to Cart Visitors, Add to Cart Units, Wishlists, Wishlist Visitor]\n",
    "Tree_Model.predict([[88, 400, 4, 10, 5, 3]])"
   ]
  },
  {
   "cell_type": "markdown",
   "metadata": {},
   "source": [
    "## Random Forest Model"
   ]
  },
  {
   "cell_type": "code",
   "execution_count": 55,
   "metadata": {},
   "outputs": [
    {
     "name": "stdout",
     "output_type": "stream",
     "text": [
      "Error range of 395.56733333333324\n"
     ]
    },
    {
     "name": "stderr",
     "output_type": "stream",
     "text": [
      "/home/user/anaconda3/lib/python3.6/site-packages/sklearn/ensemble/forest.py:246: FutureWarning: The default value of n_estimators will change from 10 in version 0.20 to 100 in 0.22.\n",
      "  \"10 in version 0.20 to 100 in 0.22.\", FutureWarning)\n"
     ]
    },
    {
     "data": {
      "text/plain": [
       "array([779.108])"
      ]
     },
     "execution_count": 55,
     "metadata": {},
     "output_type": "execute_result"
    }
   ],
   "source": [
    "from sklearn.ensemble import RandomForestRegressor\n",
    "\n",
    "Forest_Model = RandomForestRegressor(random_state=0)\n",
    "Forest_Model.fit(train_x, train_y)\n",
    "predicted = Forest_Model.predict(test_x)\n",
    "print(f'Error range of {mean_absolute_error(predicted, test_y)}')\n",
    "\n",
    "# 'Visitors', 'Pageviews', 'Add to Cart Visitors', 'Add to Cart Units', 'Wishlists', 'Wishlist Visitor'\n",
    "Forest_Model.predict([[10000, 20000, 80, 140, 80, 60]])"
   ]
  },
  {
   "cell_type": "markdown",
   "metadata": {},
   "source": [
    "\n",
    "\n",
    "*Model's projection does not seem to favour 'more views'.*\n",
    "\n",
    "### To be Continued"
   ]
  }
 ],
 "metadata": {
  "kernelspec": {
   "display_name": "Python 3",
   "language": "python",
   "name": "python3"
  },
  "language_info": {
   "codemirror_mode": {
    "name": "ipython",
    "version": 3
   },
   "file_extension": ".py",
   "mimetype": "text/x-python",
   "name": "python",
   "nbconvert_exporter": "python",
   "pygments_lexer": "ipython3",
   "version": "3.6.7"
  }
 },
 "nbformat": 4,
 "nbformat_minor": 2
}
