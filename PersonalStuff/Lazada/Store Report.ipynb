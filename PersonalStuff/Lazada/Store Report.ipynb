{
 "cells": [
  {
   "cell_type": "markdown",
   "metadata": {},
   "source": [
    "<img height=\"60px\" src=\"logo.png\" align=\"right\" hspace=\"20px\" vspace=\"5px\">\n",
    "<h1>ECPaint</h1>\n",
    "==============\n",
    "<h3>Revenue & Traffic Report (2018-2019)</h3>\n",
    "What started out as an Ecommerce side hustle, turned out to be a perfect source of data for my First Data Science project. The platform I worked with provides the data separately and I've managed to parse them into 3 separate category (Monthly, Weekly, Daily) Analysing the flow of traffic may help me make better business decisions.\n",
    "<h3>Objective</h3>\n",
    "Finding ideas to generate more Revenue $$$"
   ]
  },
  {
   "cell_type": "markdown",
   "metadata": {},
   "source": [
    "#### Modules"
   ]
  },
  {
   "cell_type": "code",
   "execution_count": 1,
   "metadata": {},
   "outputs": [],
   "source": [
    "%matplotlib inline\n",
    "import matplotlib\n",
    "import matplotlib.pyplot as plt\n",
    "import numpy as np\n",
    "import pandas as pd\n",
    "\n",
    "matplotlib.style.use('ggplot')"
   ]
  },
  {
   "cell_type": "markdown",
   "metadata": {},
   "source": [
    "#### Loading Files"
   ]
  },
  {
   "cell_type": "code",
   "execution_count": 2,
   "metadata": {},
   "outputs": [
    {
     "data": {
      "text/html": [
       "<div>\n",
       "<style scoped>\n",
       "    .dataframe tbody tr th:only-of-type {\n",
       "        vertical-align: middle;\n",
       "    }\n",
       "\n",
       "    .dataframe tbody tr th {\n",
       "        vertical-align: top;\n",
       "    }\n",
       "\n",
       "    .dataframe thead th {\n",
       "        text-align: right;\n",
       "    }\n",
       "</style>\n",
       "<table border=\"1\" class=\"dataframe\">\n",
       "  <thead>\n",
       "    <tr style=\"text-align: right;\">\n",
       "      <th></th>\n",
       "      <th>Date</th>\n",
       "      <th>Revenue</th>\n",
       "      <th>Visitors</th>\n",
       "      <th>Buyers</th>\n",
       "      <th>Orders</th>\n",
       "      <th>Pageviews</th>\n",
       "      <th>Units Sold</th>\n",
       "      <th>Conversion Rate</th>\n",
       "      <th>Revenue per Buyer</th>\n",
       "      <th>Visitor Value</th>\n",
       "      <th>Add to Cart Visitors</th>\n",
       "      <th>Add to Cart Units</th>\n",
       "      <th>Wishlists</th>\n",
       "      <th>Wishlist Visitor</th>\n",
       "    </tr>\n",
       "  </thead>\n",
       "  <tbody>\n",
       "    <tr>\n",
       "      <th>0</th>\n",
       "      <td>2018-09-30</td>\n",
       "      <td>0.0</td>\n",
       "      <td>40</td>\n",
       "      <td>0</td>\n",
       "      <td>0</td>\n",
       "      <td>119</td>\n",
       "      <td>0</td>\n",
       "      <td>0.00%</td>\n",
       "      <td>0.0</td>\n",
       "      <td>0.0</td>\n",
       "      <td>2</td>\n",
       "      <td>3</td>\n",
       "      <td>2</td>\n",
       "      <td>1</td>\n",
       "    </tr>\n",
       "    <tr>\n",
       "      <th>1</th>\n",
       "      <td>2018-10-01</td>\n",
       "      <td>0.0</td>\n",
       "      <td>36</td>\n",
       "      <td>0</td>\n",
       "      <td>0</td>\n",
       "      <td>106</td>\n",
       "      <td>0</td>\n",
       "      <td>0.00%</td>\n",
       "      <td>0.0</td>\n",
       "      <td>0.0</td>\n",
       "      <td>0</td>\n",
       "      <td>0</td>\n",
       "      <td>1</td>\n",
       "      <td>1</td>\n",
       "    </tr>\n",
       "    <tr>\n",
       "      <th>2</th>\n",
       "      <td>2018-10-02</td>\n",
       "      <td>0.0</td>\n",
       "      <td>43</td>\n",
       "      <td>0</td>\n",
       "      <td>0</td>\n",
       "      <td>127</td>\n",
       "      <td>0</td>\n",
       "      <td>0.00%</td>\n",
       "      <td>0.0</td>\n",
       "      <td>0.0</td>\n",
       "      <td>2</td>\n",
       "      <td>3</td>\n",
       "      <td>1</td>\n",
       "      <td>1</td>\n",
       "    </tr>\n",
       "    <tr>\n",
       "      <th>3</th>\n",
       "      <td>2018-10-03</td>\n",
       "      <td>0.0</td>\n",
       "      <td>31</td>\n",
       "      <td>0</td>\n",
       "      <td>0</td>\n",
       "      <td>86</td>\n",
       "      <td>0</td>\n",
       "      <td>0.00%</td>\n",
       "      <td>0.0</td>\n",
       "      <td>0.0</td>\n",
       "      <td>3</td>\n",
       "      <td>4</td>\n",
       "      <td>-</td>\n",
       "      <td>-</td>\n",
       "    </tr>\n",
       "    <tr>\n",
       "      <th>4</th>\n",
       "      <td>2018-10-04</td>\n",
       "      <td>0.0</td>\n",
       "      <td>32</td>\n",
       "      <td>0</td>\n",
       "      <td>0</td>\n",
       "      <td>95</td>\n",
       "      <td>0</td>\n",
       "      <td>0.00%</td>\n",
       "      <td>0.0</td>\n",
       "      <td>0.0</td>\n",
       "      <td>1</td>\n",
       "      <td>1</td>\n",
       "      <td>-</td>\n",
       "      <td>-</td>\n",
       "    </tr>\n",
       "  </tbody>\n",
       "</table>\n",
       "</div>"
      ],
      "text/plain": [
       "         Date  Revenue  Visitors  Buyers  Orders  Pageviews  Units Sold  \\\n",
       "0  2018-09-30      0.0        40       0       0        119           0   \n",
       "1  2018-10-01      0.0        36       0       0        106           0   \n",
       "2  2018-10-02      0.0        43       0       0        127           0   \n",
       "3  2018-10-03      0.0        31       0       0         86           0   \n",
       "4  2018-10-04      0.0        32       0       0         95           0   \n",
       "\n",
       "  Conversion Rate  Revenue per Buyer  Visitor Value  Add to Cart Visitors  \\\n",
       "0           0.00%                0.0            0.0                     2   \n",
       "1           0.00%                0.0            0.0                     0   \n",
       "2           0.00%                0.0            0.0                     2   \n",
       "3           0.00%                0.0            0.0                     3   \n",
       "4           0.00%                0.0            0.0                     1   \n",
       "\n",
       "   Add to Cart Units Wishlists Wishlist Visitor  \n",
       "0                  3         2                1  \n",
       "1                  0         1                1  \n",
       "2                  3         1                1  \n",
       "3                  4         -                -  \n",
       "4                  1         -                -  "
      ]
     },
     "execution_count": 2,
     "metadata": {},
     "output_type": "execute_result"
    }
   ],
   "source": [
    "# Monthly data since (Dec 2017)\n",
    "# Weekly data since (September 2018)\n",
    "# Daily data since (30th September 2018)\n",
    "monthly = pd.read_csv('Traffic_Monthly.csv')\n",
    "daily   = pd.read_csv('Traffic_Daily.csv')\n",
    "\n",
    "# Choose period (monthly,weekly,daily)\n",
    "period = daily\n",
    "\n",
    "# data sample\n",
    "period.head()"
   ]
  },
  {
   "cell_type": "markdown",
   "metadata": {},
   "source": [
    "#### Basic Overview "
   ]
  },
  {
   "cell_type": "code",
   "execution_count": 3,
   "metadata": {},
   "outputs": [],
   "source": [
    "Revenue          = period['Revenue']\n",
    "Total_Views      = period['Pageviews'].sum()\n",
    "Number_of_Visits = period['Visitors'].sum()\n",
    "Buyers           = period['Buyers']\n",
    "Time             = period.columns[0]\n",
    "Conversion_Rate  = round((Buyers.sum() / Number_of_Visits) * 100, 2)\n",
    "Views_to_dollar  = round(Total_Views   / Revenue.sum(), 2)\n",
    "RM_per_view      = round(Revenue.sum() / Total_Views, 2)"
   ]
  },
  {
   "cell_type": "markdown",
   "metadata": {},
   "source": [
    "## Highlights"
   ]
  },
  {
   "cell_type": "code",
   "execution_count": 4,
   "metadata": {
    "scrolled": true
   },
   "outputs": [
    {
     "name": "stdout",
     "output_type": "stream",
     "text": [
      "Throughout the period the store generated (RM 12446.13) in Revenue, a Monthly Average of (RM 829.74).\n",
      "\n",
      " In a period of (157 Dates), the store generated (24068) impressions, (7469) clicks and (36) Buyers.\n",
      "\n",
      " Thus the Conversion Rate is (0.48%),\n",
      "\n",
      " Generating (RM 0.23) per view.\n"
     ]
    }
   ],
   "source": [
    "print(f'Throughout the period the store generated (RM {monthly[\"Revenue\"].sum()}) in Revenue,',\n",
    "      f'a Monthly Average of (RM {round(monthly[\"Revenue\"].mean(), 2)}).\\n\\n',\n",
    "      f'In a period of ({period[Time].count()} {Time}s), the store generated ({Total_Views}) impressions,',\n",
    "      f'({Number_of_Visits}) clicks',\n",
    "      f'and ({Buyers.sum()}) Buyers.\\n\\n', \n",
    "      f'Thus the Conversion Rate is ({Conversion_Rate}%),\\n\\n',\n",
    "      f'Generating (RM {RM_per_view}) per view.')"
   ]
  },
  {
   "cell_type": "markdown",
   "metadata": {},
   "source": [
    "## Hypothesis\n",
    "\n",
    "May need to work on:\n",
    "    \n",
    "    a) Generating more Views (Impressions)\n",
    "\n",
    "    b) Improving Visits (Clicks) \n",
    "\n",
    "    c) Improving Conversion Rate (Buyers)"
   ]
  },
  {
   "cell_type": "code",
   "execution_count": 5,
   "metadata": {},
   "outputs": [
    {
     "name": "stdout",
     "output_type": "stream",
     "text": [
      "Page Views & Revenue\n",
      " [[1.         0.13441181]\n",
      " [0.13441181 1.        ]]\n"
     ]
    },
    {
     "data": {
      "image/png": "[encoded data removed]",
      "text/plain": [
       "<Figure size 432x288 with 2 Axes>"
      ]
     },
     "metadata": {
      "needs_background": "light"
     },
     "output_type": "display_data"
    }
   ],
   "source": [
    "X = 'Pageviews'\n",
    "print('Page Views & Revenue\\n', np.corrcoef(period[X], Revenue))\n",
    "\n",
    "fig, ax = plt.subplots()\n",
    "plt.xlabel('Period')\n",
    "plt.ylabel('Revenue')\n",
    "\n",
    "ax1 = ax.twinx()\n",
    "\n",
    "ax.plot(Revenue   , 'green', label = 'Revenue')\n",
    "ax1.plot(period[X],'orange', label = X)\n",
    "\n",
    "fig.legend()\n",
    "plt.title('Revenue and Pageviews')\n",
    "plt.show()"
   ]
  },
  {
   "cell_type": "markdown",
   "metadata": {},
   "source": [
    "---\n",
    "# Construct Machine Learning Model\n",
    "Let's make a Model to predict our Average Monthly Revenue.\n",
    "\n",
    "\n",
    "Input Features are Visitors, Pageviews, Add to Cart Visitors, Add to Cart Units, Wishlists, Wishlist Visitor.\n",
    "##  Decision Tree Model"
   ]
  },
  {
   "cell_type": "code",
   "execution_count": 6,
   "metadata": {},
   "outputs": [],
   "source": [
    "# Defining our features/variables\n",
    "Features = period[['Visitors', 'Pageviews', 'Add to Cart Visitors', 'Add to Cart Units', 'Wishlists', 'Wishlist Visitor']]\n",
    "Features = Features.replace('-',0)"
   ]
  },
  {
   "cell_type": "markdown",
   "metadata": {},
   "source": [
    "### Split,  Train, Test\n",
    "Let's split the data and use some for training and some for evaluating the model. We'll test the model using MAE"
   ]
  },
  {
   "cell_type": "code",
   "execution_count": 7,
   "metadata": {},
   "outputs": [
    {
     "name": "stdout",
     "output_type": "stream",
     "text": [
      "Error Range: 74.67649999999999\n"
     ]
    }
   ],
   "source": [
    "# Import train_test_split & DecisionTreeRegressor\n",
    "from sklearn.model_selection import train_test_split\n",
    "from sklearn.tree import DecisionTreeRegressor\n",
    "from sklearn.metrics import mean_absolute_error\n",
    "\n",
    "# split data\n",
    "train_x, test_x, train_y, test_y = train_test_split(Features, Revenue, random_state = 0)\n",
    "\n",
    "# initialize & train \n",
    "Tree_Model = DecisionTreeRegressor(random_state = 0)\n",
    "\n",
    "Tree_Model.fit(train_x, train_y)\n",
    "\n",
    "# checking error range\n",
    "predicted = Tree_Model.predict(test_x)\n",
    "\n",
    "print('Error Range:', mean_absolute_error(predicted, test_y))"
   ]
  },
  {
   "cell_type": "markdown",
   "metadata": {},
   "source": [
    "Seems alright, considering the Model doesn't know the value of the Products sold."
   ]
  },
  {
   "cell_type": "markdown",
   "metadata": {},
   "source": [
    "### Limit leaf nodes\n",
    "Let's limit the decision (nodes) made within the model"
   ]
  },
  {
   "cell_type": "code",
   "execution_count": 8,
   "metadata": {},
   "outputs": [],
   "source": [
    "def TreeError(nodes, train_x, train_y, test_y):\n",
    "    \"\"\"for looping range of nodes, returns MAE\"\"\"\n",
    "    model = DecisionTreeRegressor(max_leaf_nodes=nodes, random_state=0)\n",
    "    model.fit(train_x, train_y)\n",
    "    predicted_vals = model.predict(test_x)\n",
    "    return mean_absolute_error(test_y, predicted_vals)"
   ]
  },
  {
   "cell_type": "code",
   "execution_count": 9,
   "metadata": {},
   "outputs": [
    {
     "name": "stdout",
     "output_type": "stream",
     "text": [
      "Max nodes: 2 \t\t Mean Absolute Error: 61.44021336206896\n",
      "Max nodes: 3 \t\t Mean Absolute Error: 62.91057515991471\n",
      "Max nodes: 4 \t\t Mean Absolute Error: 61.393179263258176\n",
      "Max nodes: 5 \t\t Mean Absolute Error: 61.393179263258176\n",
      "Max nodes: 6 \t\t Mean Absolute Error: 63.28462468445726\n",
      "Max nodes: 7 \t\t Mean Absolute Error: 60.447149216125425\n",
      "Max nodes: 10 \t\t Mean Absolute Error: 68.34498712611779\n",
      "Max nodes: 15 \t\t Mean Absolute Error: 63.83522074109169\n",
      "Max nodes: 25 \t\t Mean Absolute Error: 74.26025886524823\n",
      "Max nodes: 50 \t\t Mean Absolute Error: 74.6765\n"
     ]
    }
   ],
   "source": [
    "for nodes in [2, 3, 4, 5, 6, 7, 10, 15, 25, 50]:\n",
    "    model_error = TreeError(nodes, train_x, train_y, test_y)\n",
    "    print(f'Max nodes: {nodes} \\t\\t Mean Absolute Error: {model_error}')"
   ]
  },
  {
   "cell_type": "markdown",
   "metadata": {},
   "source": [
    "Limiting leaf nodes seems to drop errors. Let's use this new information to train our model. "
   ]
  },
  {
   "cell_type": "code",
   "execution_count": 10,
   "metadata": {},
   "outputs": [
    {
     "data": {
      "text/plain": [
       "array([32.28320513])"
      ]
     },
     "execution_count": 10,
     "metadata": {},
     "output_type": "execute_result"
    }
   ],
   "source": [
    "Tree_Model = DecisionTreeRegressor(max_leaf_nodes=2, random_state=0)\n",
    "Tree_Model.fit(Features, Revenue)\n",
    "\n",
    "# Features = [Visitors, Pageviews, Add to Cart Visitors, Add to Cart Units, Wishlists, Wishlist Visitor]\n",
    "Tree_Model.predict([[88, 400, 4, 10, 5, 3]])"
   ]
  },
  {
   "cell_type": "markdown",
   "metadata": {},
   "source": [
    "---\n",
    "## Random Forest Model"
   ]
  },
  {
   "cell_type": "code",
   "execution_count": 11,
   "metadata": {},
   "outputs": [
    {
     "name": "stdout",
     "output_type": "stream",
     "text": [
      "Error range of 70.429625\n"
     ]
    },
    {
     "name": "stderr",
     "output_type": "stream",
     "text": [
      "/home/user/anaconda3/lib/python3.6/site-packages/sklearn/ensemble/forest.py:246: FutureWarning: The default value of n_estimators will change from 10 in version 0.20 to 100 in 0.22.\n",
      "  \"10 in version 0.20 to 100 in 0.22.\", FutureWarning)\n"
     ]
    }
   ],
   "source": [
    "from sklearn.ensemble import RandomForestRegressor\n",
    "\n",
    "Forest_Model = RandomForestRegressor(random_state=0)\n",
    "Forest_Model.fit(train_x, train_y)\n",
    "predicted = Forest_Model.predict(test_x)\n",
    "print(f'Error range of {mean_absolute_error(predicted, test_y)}')"
   ]
  },
  {
   "cell_type": "markdown",
   "metadata": {},
   "source": [
    "### Model Prediction"
   ]
  },
  {
   "cell_type": "code",
   "execution_count": 12,
   "metadata": {},
   "outputs": [
    {
     "data": {
      "text/plain": [
       "array([284.256])"
      ]
     },
     "execution_count": 12,
     "metadata": {},
     "output_type": "execute_result"
    }
   ],
   "source": [
    "# 'Visitors', 'Pageviews', 'Add to Cart Visitors', 'Add to Cart Units', 'Wishlists', 'Wishlist Visitor'\n",
    "Forest_Model.predict([[10000, 20000, 80, 140, 80, 60]])"
   ]
  },
  {
   "cell_type": "markdown",
   "metadata": {},
   "source": [
    "---\n",
    "*Model's projection does not seem to favour 'more views'.*\n",
    "\n",
    "### To be Continued"
   ]
  }
 ],
 "metadata": {
  "kernelspec": {
   "display_name": "Python 3",
   "language": "python",
   "name": "python3"
  },
  "language_info": {
   "codemirror_mode": {
    "name": "ipython",
    "version": 3
   },
   "file_extension": ".py",
   "mimetype": "text/x-python",
   "name": "python",
   "nbconvert_exporter": "python",
   "pygments_lexer": "ipython3",
   "version": "3.6.8"
  }
 },
 "nbformat": 4,
 "nbformat_minor": 2
}
